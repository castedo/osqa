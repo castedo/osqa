{
 "cells": [
  {
   "cell_type": "code",
   "execution_count": null,
   "metadata": {},
   "outputs": [],
   "source": [
    "import numpy as np\n",
    "import pandas as pd\n",
    "import matplotlib.pyplot as plt\n",
    "import os\n",
    "os.makedirs('ipynb_export', exist_ok=True)"
   ]
  },
  {
   "cell_type": "code",
   "execution_count": null,
   "metadata": {},
   "outputs": [],
   "source": [
    "RNG = np.random.default_rng(seed=0xC0FFEE)"
   ]
  },
  {
   "cell_type": "code",
   "execution_count": null,
   "metadata": {},
   "outputs": [],
   "source": [
    "def sim_var_estimate(p, n):\n",
    "    x = RNG.binomial(1, p, size=n)\n",
    "    p_est = x.mean()\n",
    "    return p_est * (1 - p_est)"
   ]
  },
  {
   "cell_type": "code",
   "execution_count": null,
   "metadata": {},
   "outputs": [],
   "source": [
    "def many_var_estimates(p, n):\n",
    "    return np.array([sim_var_estimate(p, n) for i in range(2048)])"
   ]
  },
  {
   "cell_type": "code",
   "execution_count": null,
   "metadata": {},
   "outputs": [],
   "source": [
    "p = 0.5; n = 32\n",
    "mle = many_var_estimates(p, n)\n",
    "plt.hist(mle, range=(0,0.3), bins=200)\n",
    "plt.title(\"Max Likelihood Estimator\")\n",
    "plt.savefig('ipynb_export/mle_p_half.png')"
   ]
  },
  {
   "cell_type": "code",
   "execution_count": null,
   "metadata": {},
   "outputs": [],
   "source": [
    "unbiased = n/(n-1) * mle\n",
    "plt.hist(unbiased, range=(0,0.3), bins=200)\n",
    "plt.title(\"Sample Variance\")\n",
    "plt.savefig('ipynb_export/unbiased_p_half.png')"
   ]
  },
  {
   "cell_type": "code",
   "execution_count": null,
   "metadata": {},
   "outputs": [],
   "source": [
    "def report(estimates, truth):\n",
    "    var = estimates.var()\n",
    "    ave_error = np.mean(estimates - truth)\n",
    "    median_error = np.median(estimates - truth)\n",
    "    pie = (estimates > 0.25).mean()\n",
    "    return dict(ave_error=ave_error,\n",
    "                median_error=median_error,\n",
    "                std_dev=np.sqrt(var),\n",
    "                sqrt_mse=np.sqrt(var + ave_error**2),\n",
    "                pie=pie)"
   ]
  },
  {
   "cell_type": "code",
   "execution_count": null,
   "metadata": {},
   "outputs": [],
   "source": [
    "def sweep_probs(step, n):\n",
    "    ret = pd.DataFrame()\n",
    "    for p in np.arange(0.0, 0.5+step, step):\n",
    "        mle = many_var_estimates(p, n)\n",
    "        unbiased = n/(n-1) * mle\n",
    "        truth = p * (1-p)\n",
    "        row = dict(prob=p)\n",
    "        for key, val in report(mle, truth).items():\n",
    "            row['mle.' + key] = val\n",
    "        for key, val in report(unbiased, truth).items():\n",
    "            row['unbiased.' + key] = val\n",
    "        ret = ret.append(row, ignore_index=True)\n",
    "    return ret"
   ]
  },
  {
   "cell_type": "code",
   "execution_count": null,
   "metadata": {},
   "outputs": [],
   "source": [
    "PERF = dict()\n",
    "for n in [5, 20, 100]:\n",
    "    PERF[n] = sweep_probs(1/32, n)"
   ]
  },
  {
   "cell_type": "code",
   "execution_count": null,
   "metadata": {},
   "outputs": [],
   "source": [
    "fig, ax1 = plt.subplots()\n",
    "ax1.set_xlabel(\"True p of Bernoulli distribution\")\n",
    "ax1.set_ylabel('Probability of Impossible Estimand (PIE)')\n",
    "for N, df in PERF.items():\n",
    "    ax1.plot('prob', 'unbiased.pie', data=df, label=\"n={}\".format(N))\n",
    "plt.legend()\n",
    "plt.title('PIE of sample variance')\n",
    "plt.savefig('ipynb_export/unbiased_pie.png')"
   ]
  },
  {
   "cell_type": "code",
   "execution_count": null,
   "metadata": {},
   "outputs": [],
   "source": [
    "def plot_perf(df, fname=None, pie=True, title=None):\n",
    "    fig, ax1 = plt.subplots()\n",
    "    ax1.set_xlabel(\"True p of Bernoulli distribution\")\n",
    "    ax1.set_ylabel('units of estimand')\n",
    "    ax1.plot('prob', 'mle.ave_error', data=df, linestyle='dashed', color='lightblue')\n",
    "    ax1.plot('prob', 'mle.sqrt_mse', data=df, linestyle='dashed', color='red')\n",
    "    ax1.plot('prob', 'unbiased.ave_error', data=df, color='lightblue')\n",
    "    ax1.plot('prob', 'unbiased.sqrt_mse', data=df, color='red')\n",
    "    leg1 = plt.legend(bbox_to_anchor=(1.14,1), loc=\"upper left\")\n",
    "    xtras = (leg1,)\n",
    "    if pie:\n",
    "        ax2 = ax1.twinx()\n",
    "        ax2.set_ylabel('Probability of Impossible Estimand (PIE)')\n",
    "        ax2.plot('prob', 'unbiased.pie', data=df, color='black')\n",
    "        leg2 = plt.legend(bbox_to_anchor=(1.14,0.5), loc=\"center left\")\n",
    "        xtras += (leg2,)\n",
    "    if title:\n",
    "        t = plt.title(title)\n",
    "    if fname:\n",
    "        plt.savefig(fname, bbox_extra_artists=xtras, bbox_inches='tight')"
   ]
  },
  {
   "cell_type": "code",
   "execution_count": null,
   "metadata": {},
   "outputs": [],
   "source": [
    "plot_perf(PERF[5], 'ipynb_export/perf5.png', pie=False, title=\"Unbiased vs biased at n=5\")"
   ]
  },
  {
   "cell_type": "code",
   "execution_count": null,
   "metadata": {},
   "outputs": [],
   "source": [
    "plot_perf(PERF[20], 'ipynb_export/perf20.png', title=\"Unbiased vs biased at n=20\")"
   ]
  },
  {
   "cell_type": "code",
   "execution_count": null,
   "metadata": {},
   "outputs": [],
   "source": [
    "plot_perf(PERF[100])"
   ]
  },
  {
   "cell_type": "code",
   "execution_count": null,
   "metadata": {},
   "outputs": [],
   "source": [
    "p = 0.5; n = 5\n",
    "true_var = p * (1-p)\n",
    "mle = many_var_estimates(p, n)\n",
    "unbiased = n/(n-1) * mle"
   ]
  },
  {
   "cell_type": "code",
   "execution_count": null,
   "metadata": {},
   "outputs": [],
   "source": [
    "report(mle, true_var)"
   ]
  },
  {
   "cell_type": "code",
   "execution_count": null,
   "metadata": {},
   "outputs": [],
   "source": [
    "report(unbiased, true_var)"
   ]
  }
 ],
 "metadata": {
  "kernelspec": {
   "display_name": "Python 3",
   "language": "python",
   "name": "python3"
  },
  "language_info": {
   "codemirror_mode": {
    "name": "ipython",
    "version": 3
   },
   "file_extension": ".py",
   "mimetype": "text/x-python",
   "name": "python",
   "nbconvert_exporter": "python",
   "pygments_lexer": "ipython3",
   "version": "3.8.6"
  }
 },
 "nbformat": 4,
 "nbformat_minor": 4
}
